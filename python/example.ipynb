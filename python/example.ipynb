{
 "cells": [
  {
   "cell_type": "code",
   "execution_count": null,
   "metadata": {},
   "outputs": [],
   "source": [
    "import fastdyn_fic_dmf as dmf\n",
    "import numpy as np\n",
    "from scipy.io import loadmat\n",
    "\n",
    "C = loadmat('../data/DTI_fiber_consensus_HCP.mat')['connectivity'][:200, :200]\n",
    "C = 0.2*C/np.max(C)\n",
    "N = C.shape[0]\n",
    "params = dmf.default_params(C=C)\n",
    "\n",
    "# Homeostatic parameters depend on the objective rate\n",
    "params['obj_rate'] = 3.44\n",
    "# We have pre-computed the a,b coefficients for objective rates 3.44 \n",
    "if params['obj_rate'] == 3.44:\n",
    "    fit_res = np.load(\"../data/fit_res_3-44.npy\")\n",
    "    b = fit_res[0] # First element is the slope\n",
    "    a = fit_res[1]\n",
    "else:\n",
    "    # Throw an exception stating that you need to calculate a,b coefficients for the desired objective rate\n",
    "    Exception(\"Need to calculate a,b coefficients for the desired objective rate\")    \n",
    "\n",
    "# To explore the effect of the decay this can be turned off\n",
    "# In general, if we want plasticity we use both set decay and plasticity as True\n",
    "params[\"with_decay\"] = True\n",
    "params[\"with_plasticity\"] = True\n",
    "LR = 10\n",
    "# We use the a,b coefficients to calculate the decay\n",
    "DECAY = np.exp(a+np.log(LR)*b)\n",
    "# To allow for heterogeneities in the decay and learning rate we can set them as vectors\n",
    "# If not, simply set them as scalars\n",
    "params['taoj_vector'] =  np.ones(N)*DECAY\n",
    "params['lr_vector'] = np.ones(N)*LR\n",
    "\n",
    "# Set the global coupling strength\n",
    "G_VAL = 2.1\n",
    "params['G'] = G_VAL\n",
    "# We use the linear solution from fastDMF paper to initialize FIC values\n",
    "params['J'] = 0.75*params['G']*params['C'].sum(axis=0).squeeze() + 1\n",
    "\n",
    "\n",
    "# Short simulation\n",
    "nb_steps = 50000\n",
    "params['seed'] = 1\n",
    "\n",
    "# Assume you want everyhing returned\n",
    "params[\"return_bold\"] = True\n",
    "params[\"return_fic\"] = True\n",
    "params[\"return_rate\"] = True\n",
    "# If not it will return the last batch of values calcualted\n",
    "\n",
    "rates_dyn, rates_inh_dyn, bold_dyn, fic_t_dyn = dmf.run(params, 50000)\n"
   ]
  }
 ],
 "metadata": {
  "kernelspec": {
   "display_name": "fic_h",
   "language": "python",
   "name": "python3"
  },
  "language_info": {
   "codemirror_mode": {
    "name": "ipython",
    "version": 3
   },
   "file_extension": ".py",
   "mimetype": "text/x-python",
   "name": "python",
   "nbconvert_exporter": "python",
   "pygments_lexer": "ipython3",
   "version": "3.10.16"
  }
 },
 "nbformat": 4,
 "nbformat_minor": 2
}
