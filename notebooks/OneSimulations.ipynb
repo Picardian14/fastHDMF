{
 "cells": [
  {
   "cell_type": "code",
   "execution_count": 1,
   "id": "61497313",
   "metadata": {},
   "outputs": [],
   "source": [
    "%load_ext autoreload\n",
    "%autoreload 2\n",
    "%matplotlib inline"
   ]
  },
  {
   "cell_type": "code",
   "execution_count": 2,
   "id": "74cfd5cb",
   "metadata": {},
   "outputs": [],
   "source": [
    "import numpy as np\n",
    "\n",
    "import sys\n",
    "from pathlib import Path\n",
    "\n",
    "# Add project paths\n",
    "project_root = Path.cwd().parent\n",
    "sys.path.insert(0, str(project_root / \"src\"))\n",
    "\n",
    "# Import experiment management from HDMF src folder\n",
    "from simulation_runner import HDMFSimulationRunner\n",
    "from experiment_manager import ExperimentManager\n",
    "\n",
    "\n",
    "def compute_fcd(data, wsize, overlap, isubdiag):\n",
    "    T, N = data.shape\n",
    "    win_start = np.arange(0, T - wsize - 1, wsize - overlap)\n",
    "    nwins = len(win_start)\n",
    "    fcd = np.zeros((len(isubdiag[0]), nwins))\n",
    "    #print(fcd.shape)\n",
    "    #print(data.shape)\n",
    "    #print((data[win_start[2]:win_start[2] + wsize + 1, :]).shape)\n",
    "    for i in range(nwins):\n",
    "        tmp = data[win_start[i]:win_start[i] + wsize + 1, :]\n",
    "        cormat = np.corrcoef(tmp.T)\n",
    "        fcd[:, i] = cormat[isubdiag[0],isubdiag[1]]\n",
    "    return fcd\n",
    "\n",
    "from utils.data_loading import load_all_sc_matrices\n"
   ]
  },
  {
   "cell_type": "code",
   "execution_count": 4,
   "id": "b52c3758",
   "metadata": {},
   "outputs": [
    {
     "name": "stderr",
     "output_type": "stream",
     "text": [
      "2025-09-22 14:15:46,787 - hdmf_experiment_Fitting_Grid - INFO - Experiment 'Fitting_Grid' initialized\n",
      "2025-09-22 14:15:46,789 - hdmf_experiment_Fitting_Grid - INFO - Config: FC and FCD grid \n",
      "2025-09-22 14:15:46,790 - hdmf_experiment_Fitting_Grid - INFO - Results will be saved to: /network/iss/home/ivan.mindlin/Repos/fastHDMF/results/Fitting_Grid\n"
     ]
    },
    {
     "name": "stdout",
     "output_type": "stream",
     "text": [
      "INFO: Loaded config from: /network/iss/home/ivan.mindlin/Repos/fastHDMF/configs/experiments/Fitting_Grid.yaml\n",
      "Creating IPP list from SC matrices in: AAL\n",
      "Found 1 IPPs from SC matrices\n"
     ]
    }
   ],
   "source": [
    "exp = ExperimentManager(project_root=project_root, config_path=\"Fitting_Grid\", results_dir=\"/network/iss/home/ivan.mindlin/Repos/fastHDMF/results\")\n",
    "#runner = HDMFSimulationRunner(project_root=project_root, experiment_manager=exp)\n",
    "#res = runner.run_experiment()\n",
    "#res = exp.load_experiment_results()\n",
    "runner = HDMFSimulationRunner(project_root=project_root, experiment_manager=exp)\n"
   ]
  },
  {
   "cell_type": "code",
   "execution_count": 5,
   "id": "8a2527e3",
   "metadata": {},
   "outputs": [
    {
     "name": "stderr",
     "output_type": "stream",
     "text": [
      "2025-09-22 14:15:52,587 - hdmf_experiment_Fitting_Grid - INFO - Loading homeostatic fit results from /network/iss/home/ivan.mindlin/Repos/fastHDMF/data/fit_res_3-44.npy\n"
     ]
    },
    {
     "name": "stderr",
     "output_type": "stream",
     "text": [
      "2025-09-22 14:21:09,010 - hdmf_experiment_Fitting_Grid - INFO - Setting homeostatic DECAY=36158753912335801562119012352.00000 for LR=1.00000\n"
     ]
    }
   ],
   "source": [
    "item = runner.define_items_over(exp.current_config)\n",
    "task = next(runner.define_tasks_from_config(exp.current_config))\n",
    "task['sc_matrix'] = item[0][1]['sc_matrix']\n",
    "params = runner.prepare_hdmf_params(task=task,seed=1)"
   ]
  },
  {
   "cell_type": "markdown",
   "id": "f4617581",
   "metadata": {},
   "source": [
    "## Get empirical data"
   ]
  },
  {
   "cell_type": "code",
   "execution_count": 7,
   "id": "07ddbf98",
   "metadata": {},
   "outputs": [],
   "source": [
    "\n",
    "from scipy.io import loadmat\n",
    "emp_data = loadmat('../data/ts_coma24_AAL_symm_withSC.mat')\n",
    "emp_data = np.squeeze(np.array(emp_data['timeseries_CNT24_symm']))\n",
    "emp_data = np.stack(emp_data.flatten())[:,:,exp.current_config['simulation']['burnout']:]\n",
    "isubfcd = np.triu_indices(params['N'], 1)\n",
    "params[\"wsize\"] = 30\n",
    "params[\"overlap\"] = 29\n",
    "\n",
    "emp_fcds = []\n",
    "for sub in range(emp_data.shape[0]):\n",
    "    fcds = compute_fcd(emp_data[sub, :, :].T, params[\"wsize\"], params['overlap'], isubfcd)\n",
    "    upp_tr_fcd = np.corrcoef(fcds.T)\n",
    "    emp_fcds.append(upp_tr_fcd)\n",
    "\n",
    "emp_fc = np.mean(np.array([np.corrcoef(emp_data[sub, :, :]) for sub in range(emp_data.shape[0])]), axis=0)\n",
    "\n",
    "# remove the diagonal\n",
    "\n",
    "emp_fc = emp_fc - np.eye(emp_fc.shape[0])\n",
    "\n",
    "emp_fcd = np.hstack((emp_fcds))"
   ]
  },
  {
   "cell_type": "code",
   "execution_count": 8,
   "id": "58d941a1",
   "metadata": {},
   "outputs": [
    {
     "data": {
      "text/plain": [
       "{'metadata': {'experiment_id': 'Fitting_Grid',\n",
       "  'original_config_path': '/network/iss/home/ivan.mindlin/Repos/fastHDMF/configs/experiments/Fitting_Grid.yaml',\n",
       "  'start_time': '2025-09-22T13:16:20.160444',\n",
       "  'config': {'simulation': {'nb_steps': 500000,\n",
       "    'obj_rate': 3.44,\n",
       "    'with_decay': True,\n",
       "    'with_plasticity': True,\n",
       "    'TR': 2.4,\n",
       "    'flp': 0.01,\n",
       "    'fhp': 0.1,\n",
       "    'burnout': 8,\n",
       "    'over': {'seed': {'fun': 'np.arange', 'args': [1, 30, 1]}},\n",
       "    'parallel': True},\n",
       "   'grid': {'lrj': {'fun': 'np.logspace', 'args': [0, 5, 2]},\n",
       "    'G': {'fun': 'np.arange', 'args': [0.1, 8.1, 2]}},\n",
       "   'data': {'test_mode': False, 'max_subjects_test': 1, 'sc_root': 'AAL'},\n",
       "   'output': {'save_full_outputs': True,\n",
       "    'observables': [{'name': 'fc', 'signal': 'bold'},\n",
       "     {'name': 'fcd', 'signal': 'bold'}]},\n",
       "   'experiment': {'description': 'FC and FCD grid ', 'version': '1.0'}},\n",
       "  'status': 'initialized',\n",
       "  'observables_spec': [{'name': 'fc',\n",
       "    'signal': ['bold'],\n",
       "    'params': {'zero_diag': True}},\n",
       "   {'name': 'fcd',\n",
       "    'signal': ['bold'],\n",
       "    'params': {'window_size': 30, 'overlap': 29}}]}}"
      ]
     },
     "execution_count": 8,
     "metadata": {},
     "output_type": "execute_result"
    }
   ],
   "source": [
    "res"
   ]
  }
 ],
 "metadata": {
  "kernelspec": {
   "display_name": "fic_h",
   "language": "python",
   "name": "python3"
  },
  "language_info": {
   "codemirror_mode": {
    "name": "ipython",
    "version": 3
   },
   "file_extension": ".py",
   "mimetype": "text/x-python",
   "name": "python",
   "nbconvert_exporter": "python",
   "pygments_lexer": "ipython3",
   "version": "3.10.16"
  }
 },
 "nbformat": 4,
 "nbformat_minor": 5
}
