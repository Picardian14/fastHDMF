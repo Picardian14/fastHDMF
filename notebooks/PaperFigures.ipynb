{
 "cells": [
  {
   "cell_type": "code",
   "execution_count": 9,
   "id": "026407b4",
   "metadata": {},
   "outputs": [
    {
     "name": "stdout",
     "output_type": "stream",
     "text": [
      "The autoreload extension is already loaded. To reload it, use:\n",
      "  %reload_ext autoreload\n"
     ]
    }
   ],
   "source": [
    "%load_ext autoreload\n",
    "%autoreload 2\n",
    "%matplotlib inline"
   ]
  },
  {
   "cell_type": "code",
   "execution_count": 12,
   "id": "0c85aea7",
   "metadata": {},
   "outputs": [],
   "source": [
    "import numpy as np\n",
    "\n",
    "import sys\n",
    "from pathlib import Path\n",
    "\n",
    "# Add project paths\n",
    "project_root = Path.cwd().parent\n",
    "sys.path.insert(0, str(project_root / \"src\"))\n",
    "\n",
    "# Import experiment management from HDMF src folder\n",
    "from simulation_runner import HDMFSimulationRunner\n",
    "from experiment_manager import ExperimentManager\n",
    "from plotting import HDMFResultsPlotter\n",
    "from utils.data_loading import load_all_sc_matrices\n"
   ]
  },
  {
   "cell_type": "code",
   "execution_count": 13,
   "id": "3f5e8125",
   "metadata": {},
   "outputs": [
    {
     "name": "stderr",
     "output_type": "stream",
     "text": [
      "2025-09-17 11:34:55,381 - hdmf_experiment_Homeostatic_Grid - INFO - Experiment 'Homeostatic_Grid' initialized\n",
      "2025-09-17 11:34:55,382 - hdmf_experiment_Homeostatic_Grid - INFO - Config: Homeostatic grid for objective rate 3.44. Used to then calculate LR->DECAY coefficients. Now supports custom parameter generation functions.\n",
      "2025-09-17 11:34:55,383 - hdmf_experiment_Homeostatic_Grid - INFO - Results will be saved to: /network/iss/cohen/data/Ivan/fastHDMF/Homeostatic_Grid\n"
     ]
    },
    {
     "name": "stdout",
     "output_type": "stream",
     "text": [
      "INFO: Loaded config from: /network/iss/home/ivan.mindlin/Repos/fastHDMF/configs/experiments/Homeostatic_Grid.yaml\n"
     ]
    }
   ],
   "source": [
    "experiment_manager = ExperimentManager(project_root, config_path=\"Homeostatic_Grid\", results_dir=\"/network/iss/cohen/data/Ivan/fastHDMF\")"
   ]
  },
  {
   "cell_type": "code",
   "execution_count": 14,
   "id": "77bf88b4",
   "metadata": {},
   "outputs": [],
   "source": [
    "plotter = HDMFResultsPlotter(experiment_manager)"
   ]
  },
  {
   "cell_type": "markdown",
   "id": "cb839f24",
   "metadata": {},
   "source": [
    "# Figure 2"
   ]
  },
  {
   "cell_type": "code",
   "execution_count": 15,
   "id": "86e1bd75",
   "metadata": {},
   "outputs": [
    {
     "ename": "TypeError",
     "evalue": "ExperimentManager.load_experiment_results() missing 2 required positional arguments: 'experiment_id' and 'is_done'",
     "output_type": "error",
     "traceback": [
      "\u001b[0;31m---------------------------------------------------------------------------\u001b[0m",
      "\u001b[0;31mTypeError\u001b[0m                                 Traceback (most recent call last)",
      "Cell \u001b[0;32mIn[15], line 1\u001b[0m\n\u001b[0;32m----> 1\u001b[0m res \u001b[38;5;241m=\u001b[39m \u001b[43mexperiment_manager\u001b[49m\u001b[38;5;241;43m.\u001b[39;49m\u001b[43mload_experiment_results\u001b[49m\u001b[43m(\u001b[49m\u001b[43m)\u001b[49m\n",
      "\u001b[0;31mTypeError\u001b[0m: ExperimentManager.load_experiment_results() missing 2 required positional arguments: 'experiment_id' and 'is_done'"
     ]
    }
   ],
   "source": [
    "res = experiment_manager.load_experiment_results()"
   ]
  },
  {
   "cell_type": "code",
   "execution_count": null,
   "id": "7228a4d5",
   "metadata": {},
   "outputs": [],
   "source": []
  },
  {
   "cell_type": "code",
   "execution_count": null,
   "id": "94adb921",
   "metadata": {},
   "outputs": [],
   "source": [
    "\n",
    "print(f\"Project root: {project_root}\")\n",
    "plotter = HDMFResultsPlotter(experiment_manager)"
   ]
  }
 ],
 "metadata": {
  "kernelspec": {
   "display_name": "fic_h",
   "language": "python",
   "name": "python3"
  },
  "language_info": {
   "codemirror_mode": {
    "name": "ipython",
    "version": 3
   },
   "file_extension": ".py",
   "mimetype": "text/x-python",
   "name": "python",
   "nbconvert_exporter": "python",
   "pygments_lexer": "ipython3",
   "version": "3.10.16"
  }
 },
 "nbformat": 4,
 "nbformat_minor": 5
}
