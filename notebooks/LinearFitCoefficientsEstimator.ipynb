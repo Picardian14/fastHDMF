{
 "cells": [
  {
   "cell_type": "code",
   "execution_count": 38,
   "metadata": {},
   "outputs": [
    {
     "name": "stderr",
     "output_type": "stream",
     "text": [
      "2025-09-17 12:27:56,649 - hdmf_experiment_Homeostatic_Grid - INFO - Experiment 'Homeostatic_Grid' initialized\n",
      "2025-09-17 12:27:56,651 - hdmf_experiment_Homeostatic_Grid - INFO - Config: Homeostatic grid for objective rate 3.44. Used to then calculate LR->DECAY coefficients. Now supports custom parameter generation functions.\n",
      "2025-09-17 12:27:56,652 - hdmf_experiment_Homeostatic_Grid - INFO - Results will be saved to: /network/iss/cohen/data/Ivan/fastHDMF/Homeostatic_Grid\n",
      "2025-09-17 12:27:56,669 - hdmf_experiment_Homeostatic_Grid - INFO - Loaded config from: /network/iss/home/ivan.mindlin/Repos/fastHDMF/configs/experiments/Homeostatic_Grid.yaml\n"
     ]
    },
    {
     "name": "stdout",
     "output_type": "stream",
     "text": [
      "INFO: Loaded config from: /network/iss/home/ivan.mindlin/Repos/fastHDMF/configs/experiments/Homeostatic_Grid.yaml\n"
     ]
    }
   ],
   "source": [
    "import numpy as np\n",
    "\n",
    "import sys\n",
    "from pathlib import Path\n",
    "\n",
    "from scipy.io import savemat\n",
    "\n",
    "# Add project paths\n",
    "project_root = Path.cwd().parent\n",
    "sys.path.insert(0, str(project_root / \"src\"))\n",
    "\n",
    "# Import experiment management from HDMF src folder\n",
    "from simulation_runner import HDMFSimulationRunner\n",
    "from experiment_manager import ExperimentManager\n",
    "from plotting import HDMFResultsPlotter\n",
    "from utils.data_loading import load_all_sc_matrices\n",
    "\n",
    "experiment_manager = ExperimentManager(project_root, config_path=\"Homeostatic_Grid\", results_dir=\"/network/iss/cohen/data/Ivan/fastHDMF\")\n",
    "res = experiment_manager.load_experiment_results()\n",
    "plotter = HDMFResultsPlotter(experiment_manager)\n",
    "config = experiment_manager.current_config"
   ]
  },
  {
   "cell_type": "code",
   "execution_count": 39,
   "metadata": {},
   "outputs": [],
   "source": [
    "hom_grid = np.stack(res['full_results']['observables']['mean_rates'].flatten())\n",
    "hom_grid = np.reshape(hom_grid, (100,110,17,90))\n",
    "hom_grid = 3.44 - np.mean(hom_grid, axis=-1)\n",
    "hom_grid_mean = np.mean(hom_grid, axis=2)\n",
    "hom_grid_std = np.std(hom_grid, axis=2)\n"
   ]
  },
  {
   "cell_type": "code",
   "execution_count": 40,
   "metadata": {},
   "outputs": [
    {
     "name": "stdout",
     "output_type": "stream",
     "text": [
      "Assuming G Axis is the last axis\n",
      "Fit coefficients (LR, DECAY): [-0.07419012 65.75771659]\n"
     ]
    }
   ],
   "source": [
    "# Parameter ranges from config (fallbacks if missing)\n",
    "\n",
    "def _range_from_config(name: str, config: dict = None) -> np.ndarray:\n",
    "    # Prefer ranges computed by parent class (utils.plotting extracts grid ranges)\n",
    "    \n",
    "    # Check explicit Homeostatic_Grid-like config where functions are used\n",
    "    grid_cfg = config.get('grid', {})\n",
    "    if name in grid_cfg:\n",
    "        cfg = grid_cfg[name]\n",
    "        # If using function def: {fun: 'np.logspace', args: [...]}\n",
    "        if isinstance(cfg, dict) and 'fun' in cfg:\n",
    "            fun = cfg['fun']\n",
    "            args = cfg.get('args', [])\n",
    "            if fun == 'np.logspace':\n",
    "                return np.logspace(*args)\n",
    "            elif fun == 'np.linspace':\n",
    "                return np.linspace(*args)\n",
    "        \n",
    "        # If using start/end/step\n",
    "        if isinstance(cfg, dict) and all(k in cfg for k in ('start', 'end', 'step')):\n",
    "            start, end, step = cfg['start'], cfg['end'], cfg['step']\n",
    "            # inclusive-ish end\n",
    "            return np.arange(start, end + step/2, step)\n",
    "        # If list of values\n",
    "        if isinstance(cfg, (list, tuple)):\n",
    "            return np.asarray(cfg)\n",
    "    \n",
    "over_cfg = config.get('simulation', {}).get('over', {})\n",
    "G_range = np.arange(over_cfg['range']['start'],over_cfg['range']['end'],over_cfg['range']['step'])\n",
    "LR_range = _range_from_config('lrj',config=config)\n",
    "DECAY_range = _range_from_config('taoj',config=config)\n",
    "\n",
    "# Determine pure-decades ticks (first three decades) for LR and DECAY\n",
    "exp_min_lr = int(np.floor(np.log10(LR_range[0])))\n",
    "lr_ticks = []\n",
    "lr_labels = []\n",
    "for e in range(exp_min_lr, exp_min_lr + 3):\n",
    "    val = 10**e\n",
    "    idx = int(np.argmin(np.abs(LR_range - val)))\n",
    "    lr_ticks.append(idx)\n",
    "    lr_labels.append(f\"{val:g}\")\n",
    "\n",
    "exp_min_dec = int(np.floor(np.log10(DECAY_range[0])))\n",
    "decay_ticks = []\n",
    "decay_labels = []\n",
    "for e in range(exp_min_dec, exp_min_dec + 3):\n",
    "    val = 10**e\n",
    "    idx = int(np.argmin(np.abs(DECAY_range - val)))\n",
    "    decay_ticks.append(idx)\n",
    "    decay_labels.append(f\"{val:g}\")\n",
    "\n",
    "nlr = len(LR_range)\n",
    "ndec = len(DECAY_range)\n",
    "nG = len(G_range)\n",
    "\n",
    "if hom_grid.ndim != 3:\n",
    "    raise ValueError(f\"Each homeostatic grid must be 3D, got {hom_grid.shape}\")\n",
    "# find g axis by size match\n",
    "axes_sizes = hom_grid.shape\n",
    "print(\"Assuming G Axis is the last axis\")\n",
    "hom_grid_mean = np.mean(hom_grid, axis=-1)\n",
    "std_hom_grid = np.std(hom_grid, axis=-1)\n",
    "\n",
    "# Extract minimum mismatch positions along DECAY for each LR index\n",
    "# In notebook they used argmin(abs(x)) over axis=0, where x is mean over G -> (LR, DECAY)\n",
    "min_mm_pos = np.argmin(np.abs(hom_grid_mean), axis=1)\n",
    "\n",
    "x_idx = np.arange(nlr)\n",
    "y = min_mm_pos\n",
    "if config.get('simulation', {}).get('obj_rate', 3.44) == 1.22:\n",
    "    coeff = np.polyfit(LR_range[21:], y[21:], 1)\n",
    "    coeff_plot = np.polyfit(x_idx[21:], y[21:], 1)\n",
    "else:\n",
    "    coeff = np.polyfit(LR_range, y, 1)\n",
    "    coeff_plot = np.polyfit(x_idx, y, 1)\n",
    "\n",
    "print(\"Fit coefficients (LR, DECAY):\", coeff)\n",
    "np.save(project_root / Path(\"data\") / f\"fit_res_{str(config['simulation']['obj_rate']).replace('.','-')}.npy\", coeff)\n",
    "savemat(project_root / Path(\"data\") / f\"fit_res_{str(config['simulation']['obj_rate']).replace('.','-')}.mat\", {'fit_res': coeff})\n"
   ]
  }
 ],
 "metadata": {
  "kernelspec": {
   "display_name": "fic_h",
   "language": "python",
   "name": "python3"
  },
  "language_info": {
   "codemirror_mode": {
    "name": "ipython",
    "version": 3
   },
   "file_extension": ".py",
   "mimetype": "text/x-python",
   "name": "python",
   "nbconvert_exporter": "python",
   "pygments_lexer": "ipython3",
   "version": "3.10.16"
  }
 },
 "nbformat": 4,
 "nbformat_minor": 2
}
