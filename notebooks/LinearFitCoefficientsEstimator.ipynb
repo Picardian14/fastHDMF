{
 "cells": [
  {
   "cell_type": "code",
   "execution_count": 1,
   "metadata": {},
   "outputs": [
    {
     "name": "stderr",
     "output_type": "stream",
     "text": [
      "2025-09-22 15:44:56,142 - hdmf_experiment_Homeostatic_Grid - INFO - Experiment 'Homeostatic_Grid' initialized\n",
      "2025-09-22 15:44:56,143 - hdmf_experiment_Homeostatic_Grid - INFO - Config: Homeostatic grid for objective rate 3.44. Used to then calculate LR->DECAY coefficients. Now supports custom parameter generation functions.\n",
      "2025-09-22 15:44:56,144 - hdmf_experiment_Homeostatic_Grid - INFO - Results will be saved to: /network/iss/cohen/data/Ivan/fastHDMF/Homeostatic_Grid\n",
      "2025-09-22 15:44:56,152 - hdmf_experiment_Homeostatic_Grid - INFO - Loaded config from: /network/iss/home/ivan.mindlin/Repos/fastHDMF/configs/experiments/Homeostatic_Grid.yaml\n"
     ]
    },
    {
     "name": "stdout",
     "output_type": "stream",
     "text": [
      "INFO: Loaded config from: /network/iss/home/ivan.mindlin/Repos/fastHDMF/configs/experiments/Homeostatic_Grid.yaml\n"
     ]
    }
   ],
   "source": [
    "import numpy as np\n",
    "\n",
    "import sys\n",
    "from pathlib import Path\n",
    "\n",
    "from scipy.io import savemat\n",
    "\n",
    "# Add project paths\n",
    "project_root = Path.cwd().parent\n",
    "sys.path.insert(0, str(project_root / \"src\"))\n",
    "\n",
    "# Import experiment management from HDMF src folder\n",
    "from simulation_runner import HDMFSimulationRunner\n",
    "from experiment_manager import ExperimentManager\n",
    "from plotting import HDMFResultsPlotter\n",
    "from utils.data_loading import load_all_sc_matrices\n",
    "\n",
    "experiment_manager = ExperimentManager(project_root, config_path=\"Homeostatic_Grid\", results_dir=\"/network/iss/cohen/data/Ivan/fastHDMF\")\n",
    "res = experiment_manager.load_experiment_results()\n",
    "plotter = HDMFResultsPlotter(experiment_manager)\n",
    "config = experiment_manager.current_config"
   ]
  },
  {
   "cell_type": "code",
   "execution_count": 2,
   "metadata": {},
   "outputs": [],
   "source": [
    "hom_grid = np.stack(res['full_results']['observables']['mean_rates'].flatten())\n",
    "hom_grid = np.reshape(hom_grid, (100,110,17,90))\n",
    "hom_grid = 3.44 - np.mean(hom_grid, axis=-1)\n",
    "hom_grid_mean = np.mean(hom_grid, axis=2)\n",
    "hom_grid_std = np.std(hom_grid, axis=2)\n"
   ]
  },
  {
   "cell_type": "code",
   "execution_count": 18,
   "metadata": {},
   "outputs": [
    {
     "name": "stdout",
     "output_type": "stream",
     "text": [
      "Assuming G Axis is the last axis\n",
      "Fit coefficients (LR, DECAY): [-0.92416023 12.42424635]\n"
     ]
    }
   ],
   "source": [
    "# Parameter ranges from config (fallbacks if missing)\n",
    "\n",
    "\n",
    "# Check explicit Homeostatic_Grid-like config where functions are used\n",
    "def _generate_parameter_values(spec: dict) -> np.ndarray:\n",
    "    \"\"\"Generate parameter values from spec with optional custom function\"\"\"\n",
    "    if \"fun\" in spec:\n",
    "        fun_name = spec[\"fun\"]\n",
    "        args = spec.get(\"args\", [])\n",
    "        kwargs = spec.get(\"kwargs\", {})\n",
    "        \n",
    "        try:\n",
    "            func = eval(fun_name)\n",
    "            values = func(*args, **kwargs)\n",
    "            return np.array(values, dtype=float)\n",
    "        except Exception as e:\n",
    "            raise ValueError(f\"Error calling function '{fun_name}': {e}\")\n",
    "    else:\n",
    "        # Default: start, end, step\n",
    "        values = np.arange(spec[\"start\"], spec[\"end\"], spec[\"step\"], dtype=float)\n",
    "        return np.round(values, 12)\n",
    "    \n",
    "over_cfg = config.get('simulation', {}).get('over', {})\n",
    "G_range = _generate_parameter_values(config['simulation']['over']['G'])\n",
    "LR_range = _generate_parameter_values(config['grid']['lrj'])\n",
    "DECAY_range = _generate_parameter_values(config['grid']['taoj'])\n",
    "\n",
    "nlr = len(LR_range)\n",
    "ndec = len(DECAY_range)\n",
    "nG = len(G_range)\n",
    "\n",
    "# find g axis by size match\n",
    "axes_sizes = hom_grid.shape\n",
    "print(\"Assuming G Axis is the last axis\")\n",
    "hom_grid_mean = np.mean(hom_grid, axis=-1)\n",
    "std_hom_grid = np.std(hom_grid, axis=-1)\n",
    "\n",
    "min_mm_pos = np.argmin(np.abs(hom_grid_mean), axis=1)\n",
    "\n",
    "x_idx = np.arange(nlr)\n",
    "# Extract the decay values corresponding to the minimum mismatch for each learning rate\n",
    "y = DECAY_range[min_mm_pos]\n",
    "if config.get('simulation', {}).get('obj_rate', 3.44) == 1.22:\n",
    "    coeff = np.polyfit(np.log(LR_range[21:]), np.log(y[21:]), 1)\n",
    "    #coeff_plot = np.polyfit(np.log(x_idx[21:]), np.log(y[21:]), 1)\n",
    "else:\n",
    "    coeff = np.polyfit(np.log(LR_range), np.log(y), 1)\n",
    "    #coeff_plot = np.polyfit(np.log(x_idx), np.log(y), 1)\n",
    "\n",
    "print(\"Fit coefficients (LR, DECAY):\", coeff)\n",
    "np.save(project_root / Path(\"data\") / f\"fit_res_{str(config['simulation']['obj_rate']).replace('.','-')}.npy\", coeff)\n",
    "savemat(project_root / Path(\"data\") / f\"fit_res_{str(config['simulation']['obj_rate']).replace('.','-')}.mat\", {'fit_res': coeff})\n"
   ]
  },
  {
   "cell_type": "code",
   "execution_count": 19,
   "metadata": {},
   "outputs": [
    {
     "data": {
      "text/plain": [
       "(100,)"
      ]
     },
     "execution_count": 19,
     "metadata": {},
     "output_type": "execute_result"
    }
   ],
   "source": [
    "min_mm_pos.shape"
   ]
  },
  {
   "cell_type": "code",
   "execution_count": 9,
   "metadata": {},
   "outputs": [
    {
     "data": {
      "text/plain": [
       "(110,)"
      ]
     },
     "execution_count": 9,
     "metadata": {},
     "output_type": "execute_result"
    }
   ],
   "source": [
    "np.argmin(np.abs(hom_grid_mean), axis=0).shape"
   ]
  },
  {
   "cell_type": "markdown",
   "metadata": {},
   "source": [
    "## Save FIC for Mixed model"
   ]
  },
  {
   "cell_type": "code",
   "execution_count": 20,
   "metadata": {},
   "outputs": [
    {
     "name": "stderr",
     "output_type": "stream",
     "text": [
      "2025-09-22 16:07:28,999 - hdmf_experiment_Dynamic_Stability - INFO - Experiment 'Dynamic_Stability' initialized\n",
      "2025-09-22 16:07:29,001 - hdmf_experiment_Dynamic_Stability - INFO - Config: Showing firing rate stability across G values in the dynamic model\n",
      "2025-09-22 16:07:29,002 - hdmf_experiment_Dynamic_Stability - INFO - Results will be saved to: /network/iss/cohen/data/Ivan/fastHDMF/Dynamic_Stability\n",
      "2025-09-22 16:07:29,021 - hdmf_experiment_Dynamic_Stability - INFO - Loaded config from: /network/iss/home/ivan.mindlin/Repos/fastHDMF/configs/experiments/Dynamic_Stability.yaml\n"
     ]
    },
    {
     "name": "stdout",
     "output_type": "stream",
     "text": [
      "INFO: Loaded config from: /network/iss/home/ivan.mindlin/Repos/fastHDMF/configs/experiments/Dynamic_Stability.yaml\n"
     ]
    }
   ],
   "source": [
    "experiment_manager = ExperimentManager(project_root, config_path=\"Dynamic_Stability\", results_dir=\"/network/iss/cohen/data/Ivan/fastHDMF\")\n",
    "res_dynamic = experiment_manager.load_experiment_results()\n",
    "mean_fic_dynamic = res_dynamic['full_results']['observables']['mean_fic']\n",
    "\n",
    "g_values = res_dynamic['full_results']['axis_values']['G']\n",
    "for idx, g in enumerate(g_values): \n",
    "    avg_fic = np.mean(np.mean(mean_fic_dynamic[idx, :, :],axis=1))\n",
    "    g_value_str = f\"{g:.2f}\".replace('.','')\n",
    "    fname = f\"mean_fic_G_{g_value_str}.npy\"\n",
    "    np.save(project_root / \"data\" / \"dyn_fics\" / fname, avg_fic)"
   ]
  }
 ],
 "metadata": {
  "kernelspec": {
   "display_name": "fic_h",
   "language": "python",
   "name": "python3"
  },
  "language_info": {
   "codemirror_mode": {
    "name": "ipython",
    "version": 3
   },
   "file_extension": ".py",
   "mimetype": "text/x-python",
   "name": "python",
   "nbconvert_exporter": "python",
   "pygments_lexer": "ipython3",
   "version": "3.10.16"
  }
 },
 "nbformat": 4,
 "nbformat_minor": 2
}
