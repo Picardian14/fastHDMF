{
 "cells": [
  {
   "cell_type": "code",
   "execution_count": 1,
   "id": "2fc378fc",
   "metadata": {},
   "outputs": [],
   "source": [
    "%load_ext autoreload\n",
    "%autoreload 2\n",
    "%matplotlib inline"
   ]
  },
  {
   "cell_type": "code",
   "execution_count": 2,
   "id": "3d8401ae",
   "metadata": {},
   "outputs": [],
   "source": [
    "import numpy as np\n",
    "\n",
    "import sys\n",
    "from pathlib import Path\n",
    "\n",
    "# Add project paths\n",
    "project_root = Path.cwd().parent\n",
    "sys.path.insert(0, str(project_root / \"src\"))\n",
    "\n",
    "# Import experiment management from HDMF src folder\n",
    "from simulation_runner import HDMFSimulationRunner\n",
    "from experiment_manager import ExperimentManager\n",
    "\n",
    "from utils.data_loading import load_all_sc_matrices\n"
   ]
  },
  {
   "cell_type": "code",
   "execution_count": 4,
   "id": "9366ba6f",
   "metadata": {},
   "outputs": [
    {
     "name": "stderr",
     "output_type": "stream",
     "text": [
      "2025-09-16 16:41:57,680 - hdmf_experiment_Dynamic_Stability - INFO - Experiment 'Dynamic_Stability' initialized\n",
      "2025-09-16 16:41:57,682 - hdmf_experiment_Dynamic_Stability - INFO - Config: Showing firing rate stability across G values in the dynamic model\n",
      "2025-09-16 16:41:57,683 - hdmf_experiment_Dynamic_Stability - INFO - Results will be saved to: /network/iss/cohen/data/Ivan/fastHDMF/Dynamic_Stability\n"
     ]
    },
    {
     "name": "stdout",
     "output_type": "stream",
     "text": [
      "INFO: Loaded config from: /network/iss/home/ivan.mindlin/Repos/fastHDMF/configs/experiments/Dynamic_Stability.yaml\n",
      "Project root: /network/iss/home/ivan.mindlin/Repos/fastHDMF\n",
      "HDMF experiment system loaded!!\n"
     ]
    }
   ],
   "source": [
    "experiment_manager = ExperimentManager(project_root, config_path=\"Dynamic_Stability\", results_dir=\"/network/iss/cohen/data/Ivan/fastHDMF\")\n",
    "\n",
    "print(f\"Project root: {project_root}\")\n",
    "print(\"HDMF experiment system loaded!!\")"
   ]
  },
  {
   "cell_type": "code",
   "execution_count": 6,
   "id": "cb2ddd86",
   "metadata": {},
   "outputs": [
    {
     "name": "stdout",
     "output_type": "stream",
     "text": [
      "Creating IPP list from SC matrices in: AAL\n",
      "Found 1 IPPs from SC matrices\n"
     ]
    },
    {
     "ename": "AttributeError",
     "evalue": "'dict' object has no attribute 'get_k'",
     "output_type": "error",
     "traceback": [
      "\u001b[0;31m---------------------------------------------------------------------------\u001b[0m",
      "\u001b[0;31mAttributeError\u001b[0m                            Traceback (most recent call last)",
      "Cell \u001b[0;32mIn[6], line 2\u001b[0m\n\u001b[1;32m      1\u001b[0m runner \u001b[38;5;241m=\u001b[39m HDMFSimulationRunner(project_root, experiment_manager)\n\u001b[0;32m----> 2\u001b[0m res \u001b[38;5;241m=\u001b[39m \u001b[43mrunner\u001b[49m\u001b[38;5;241;43m.\u001b[39;49m\u001b[43mrun_experiment\u001b[49m\u001b[43m(\u001b[49m\u001b[43m)\u001b[49m\n",
      "File \u001b[0;32m/network/iss/home/ivan.mindlin/Repos/fastHDMF/src/simulation_runner.py:262\u001b[0m, in \u001b[0;36mHDMFSimulationRunner.run_experiment\u001b[0;34m(self)\u001b[0m\n\u001b[1;32m    260\u001b[0m nb_steps \u001b[38;5;241m=\u001b[39m \u001b[38;5;28mint\u001b[39m(sim\u001b[38;5;241m.\u001b[39mget(\u001b[38;5;124m\"\u001b[39m\u001b[38;5;124mnb_steps\u001b[39m\u001b[38;5;124m\"\u001b[39m, \u001b[38;5;241m1000\u001b[39m))\n\u001b[1;32m    261\u001b[0m parallel \u001b[38;5;241m=\u001b[39m \u001b[38;5;28mbool\u001b[39m(sim\u001b[38;5;241m.\u001b[39mget(\u001b[38;5;124m\"\u001b[39m\u001b[38;5;124mparallel\u001b[39m\u001b[38;5;124m\"\u001b[39m, \u001b[38;5;28;01mFalse\u001b[39;00m))\n\u001b[0;32m--> 262\u001b[0m items \u001b[38;5;241m=\u001b[39m \u001b[38;5;28;43mself\u001b[39;49m\u001b[38;5;241;43m.\u001b[39;49m\u001b[43mdefine_items_over\u001b[49m\u001b[43m(\u001b[49m\u001b[43mconfig\u001b[49m\u001b[43m)\u001b[49m\n\u001b[1;32m    263\u001b[0m n_items \u001b[38;5;241m=\u001b[39m \u001b[38;5;28mlen\u001b[39m(items)        \n\u001b[1;32m    264\u001b[0m log\u001b[38;5;241m.\u001b[39minfo(\u001b[38;5;124mf\u001b[39m\u001b[38;5;124m\"\u001b[39m\u001b[38;5;124mLoaded \u001b[39m\u001b[38;5;132;01m{\u001b[39;00mn_items\u001b[38;5;132;01m}\u001b[39;00m\u001b[38;5;124m patients.\u001b[39m\u001b[38;5;124m\"\u001b[39m)\n",
      "File \u001b[0;32m/network/iss/home/ivan.mindlin/Repos/fastHDMF/src/simulation_runner.py:210\u001b[0m, in \u001b[0;36mHDMFSimulationRunner.define_items_over\u001b[0;34m(self, config)\u001b[0m\n\u001b[1;32m    206\u001b[0m         items\u001b[38;5;241m.\u001b[39mappend((ipp, item))\n\u001b[1;32m    207\u001b[0m \u001b[38;5;28;01melse\u001b[39;00m:\n\u001b[1;32m    208\u001b[0m \n\u001b[1;32m    209\u001b[0m     \u001b[38;5;66;03m# Create parameter values to iterate over\u001b[39;00m\n\u001b[0;32m--> 210\u001b[0m     param_name \u001b[38;5;241m=\u001b[39m \u001b[43mover_config\u001b[49m\u001b[38;5;241;43m.\u001b[39;49m\u001b[43mget_k\u001b[49m\n\u001b[1;32m    211\u001b[0m     param_values \u001b[38;5;241m=\u001b[39m \u001b[38;5;28mself\u001b[39m\u001b[38;5;241m.\u001b[39m_generate_parameter_values(range_config)\n\u001b[1;32m    213\u001b[0m     \u001b[38;5;66;03m# Cartesian product between patients and parameter values\u001b[39;00m\n",
      "\u001b[0;31mAttributeError\u001b[0m: 'dict' object has no attribute 'get_k'"
     ]
    }
   ],
   "source": [
    "runner = HDMFSimulationRunner(project_root, experiment_manager)\n",
    "res = runner.run_experiment()"
   ]
  },
  {
   "cell_type": "code",
   "execution_count": null,
   "id": "abe1ea2d",
   "metadata": {},
   "outputs": [],
   "source": []
  }
 ],
 "metadata": {
  "kernelspec": {
   "display_name": "fic_h",
   "language": "python",
   "name": "python3"
  },
  "language_info": {
   "codemirror_mode": {
    "name": "ipython",
    "version": 3
   },
   "file_extension": ".py",
   "mimetype": "text/x-python",
   "name": "python",
   "nbconvert_exporter": "python",
   "pygments_lexer": "ipython3",
   "version": "3.10.16"
  }
 },
 "nbformat": 4,
 "nbformat_minor": 5
}
